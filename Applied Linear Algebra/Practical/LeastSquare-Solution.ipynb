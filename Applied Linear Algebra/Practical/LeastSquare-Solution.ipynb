{
 "cells": [
  {
   "cell_type": "markdown",
   "metadata": {},
   "source": [
    "# Least Squares Estimation\n",
    "\n",
    "## Instructions\n",
    "In this assignment you will use LS estimation in two datasets and compare it to Gradient Descent.\n",
    "\n",
    "#### 1. hight and weight:\n",
    "given hights of people you will estimate weight of those people by LS and then compare it with Gradient Descent.\n",
    "\n",
    "#### 2. Load News popularity data:\n",
    "This is a dataset of news with some parameters to predict how many shares every news get.\n",
    "To get more familar with the dataset please open `OnlineNewsPopularity.csv` and check the columns.\n"
   ]
  },
  {
   "cell_type": "code",
   "execution_count": 1,
   "metadata": {},
   "outputs": [],
   "source": [
    "# Useful starting lines\n",
    "%matplotlib inline\n",
    "import numpy as np\n",
    "import matplotlib.pyplot as plt\n",
    "%load_ext autoreload\n",
    "%autoreload 2"
   ]
  },
  {
   "cell_type": "markdown",
   "metadata": {},
   "source": [
    "# 1. Least Squares Estimation\n",
    "Least squares estimation is one of the fundamental machine learning algorithms.\n",
    "Consider the case where we have a linear model for predicting housing prices. We are predicting the housing prices based on features in the \n",
    "housing dataset. If we denote the features as $\\boldsymbol x_0, \\dotsc, \\boldsymbol x_n$ and collect them into a vector $\\boldsymbol {x}$, and the price of the houses as $y$. Assuming that we have \n",
    "a prediction model in the way such that $\\hat{y}_i =  f(\\boldsymbol {x}_i) = \\boldsymbol \\theta^T\\boldsymbol {x}_i$.\n",
    "\n",
    "\n",
    "If we collect the dataset into a $(N,D)$ data matrix $\\boldsymbol X$, we can write down our model like this:\n",
    "\n",
    "$$\n",
    "\\begin{bmatrix} \n",
    "\\boldsymbol{x}_1^T \\\\\n",
    "\\vdots \\\\ \n",
    "\\boldsymbol{x}_N^T \n",
    "\\end{bmatrix} \\boldsymbol{\\theta} = \\begin{bmatrix} \n",
    "y_1 \\\\\n",
    "\\vdots \\\\ \n",
    "y_2 \n",
    "\\end{bmatrix},\n",
    "$$\n",
    "\n",
    "i.e.,\n",
    "\n",
    "$$\n",
    "\\boldsymbol X\\boldsymbol{\\theta} = \\boldsymbol{y}.\n",
    "$$\n",
    "\n",
    "Note that the data points are the *rows* of the data matrix, i.e., every column is a dimension of the data. "
   ]
  },
  {
   "cell_type": "markdown",
   "metadata": {},
   "source": [
    "## Load the first data: Height and weight\n"
   ]
  },
  {
   "cell_type": "code",
   "execution_count": 2,
   "metadata": {},
   "outputs": [],
   "source": [
    "def load_first_data(sub_sample=True, add_outlier=False):\n",
    "    \"\"\"Load data and convert it to the metric system.\"\"\"\n",
    "    \n",
    "    path_dataset = \"height_weight_genders.csv\"\n",
    "    \n",
    "    data = np.genfromtxt(\n",
    "        path_dataset, delimiter=\",\", skip_header=1, usecols=[1, 2])\n",
    "    height = data[:, 0]\n",
    "    weight = data[:, 1]\n",
    "    gender = np.genfromtxt(\n",
    "        path_dataset, delimiter=\",\", skip_header=1, usecols=[0],\n",
    "        converters={0: lambda x: 0 if b\"Male\" in x else 1})\n",
    "    # Convert to metric system\n",
    "    height *= 0.025\n",
    "    weight *= 0.454\n",
    "\n",
    "    # sub-sample\n",
    "    if sub_sample:\n",
    "        height = height[::50]\n",
    "        weight = weight[::50]\n",
    "\n",
    "    if add_outlier:\n",
    "        # outlier experiment\n",
    "        height = np.concatenate([height, [1.1, 1.2]])\n",
    "        weight = np.concatenate([weight, [51.5/0.454, 55.3/0.454]])\n",
    "    \n",
    "    return height, weight, gender"
   ]
  },
  {
   "cell_type": "markdown",
   "metadata": {},
   "source": [
    "## Standardizing the data\n",
    "In this function we will standarize the dataset:\n",
    "$$x = \\frac{x - \\mu}{\\sigma}$$"
   ]
  },
  {
   "cell_type": "code",
   "execution_count": 3,
   "metadata": {},
   "outputs": [],
   "source": [
    "def standardize(x):  # 10\n",
    "    \"\"\"\n",
    "    Standardize the original data set.\n",
    "    :param x: the numpy array \n",
    "    :returns: standardized_x, mean_x, std_x\n",
    "    \"\"\"\n",
    "    # Your code here\n",
    "    \n",
    "    # raise NotImplementedError # delete this line after finishing this function\n",
    "  \n",
    "    mean_x = np.mean(x,axis = 0)\n",
    "    x = x - mean_x\n",
    "    std_x = np.std(x, axis = 0)\n",
    "    x = x / std_x\n",
    "    return x, mean_x, std_x"
   ]
  },
  {
   "cell_type": "code",
   "execution_count": 4,
   "metadata": {},
   "outputs": [],
   "source": [
    "def build_model_data(height, weight):\n",
    "    \"\"\"Form (y,tX) to get regression data in matrix form.\"\"\"\n",
    "    y = weight\n",
    "    x = height\n",
    "    num_samples = len(y)\n",
    "    tx = np.c_[np.ones(num_samples), x]\n",
    "    return y, tx"
   ]
  },
  {
   "cell_type": "markdown",
   "metadata": {},
   "source": [
    "## Height and weight"
   ]
  },
  {
   "cell_type": "code",
   "execution_count": 5,
   "metadata": {},
   "outputs": [
    {
     "name": "stdout",
     "output_type": "stream",
     "text": [
      "mean_x, std_x: (1.6591889938705313, 0.09618339348893848)\n"
     ]
    }
   ],
   "source": [
    "height, weight, gender = load_first_data(sub_sample=False, add_outlier=False)\n",
    "x, mean_x, std_x = standardize(height)\n",
    "b, A = build_model_data(x, weight)\n",
    "\n",
    "print(f\"mean_x, std_x: {mean_x, std_x}\")\n",
    "b.shape, A.shape\n",
    "epsilon = 1e-5"
   ]
  },
  {
   "cell_type": "markdown",
   "metadata": {},
   "source": [
    "## Plotting the data"
   ]
  },
  {
   "cell_type": "code",
   "execution_count": 6,
   "metadata": {},
   "outputs": [
    {
     "data": {
      "text/plain": [
       "Text(0, 0.5, 'weight')"
      ]
     },
     "execution_count": 6,
     "metadata": {},
     "output_type": "execute_result"
    },
    {
     "data": {
      "image/png": "[encoded data removed]",
      "text/plain": [
       "<Figure size 432x288 with 2 Axes>"
      ]
     },
     "metadata": {
      "needs_background": "light"
     },
     "output_type": "display_data"
    }
   ],
   "source": [
    "# plt.subplot(nrows, ncols, plot_number)\n",
    "plt.subplot(1, 2, 1)\n",
    "plt.scatter(height, b)\n",
    "plt.xlabel('unnormalized height')\n",
    "plt.ylabel('weight')\n",
    "plt.subplot(1, 2, 2)\n",
    "plt.scatter(A[:, 1], b)\n",
    "plt.xlabel('normalized height')\n",
    "plt.ylabel('weight')"
   ]
  },
  {
   "cell_type": "markdown",
   "metadata": {},
   "source": [
    "# Calculate LS\n",
    "Consider the case where we have a linear model for predicting housing prices. We are predicting the housing prices based on features in the \n",
    "housing dataset. If we denote the features as $\\boldsymbol x_0, \\dotsc, \\boldsymbol x_n$ and collect them into a vector $\\boldsymbol {x}$, and the price of the houses as $y$. Assuming that we have \n",
    "a prediction model in the way such that $\\hat{y}_i =  f(\\boldsymbol {x}_i) = \\boldsymbol \\theta^T\\boldsymbol {x}_i$.\n",
    "\n",
    "\n",
    "If we collect the dataset into a $(N,D)$ data matrix $\\boldsymbol X$, we can write down our model like this:\n",
    "\n",
    "$$\n",
    "\\begin{bmatrix} \n",
    "\\boldsymbol{x}_1^T \\\\\n",
    "\\vdots \\\\ \n",
    "\\boldsymbol{x}_N^T \n",
    "\\end{bmatrix} \\boldsymbol{\\theta} = \\begin{bmatrix} \n",
    "y_1 \\\\\n",
    "\\vdots \\\\ \n",
    "y_2 \n",
    "\\end{bmatrix},\n",
    "$$\n",
    "\n",
    "i.e.,\n",
    "\n",
    "$$\n",
    "\\boldsymbol X\\boldsymbol{\\theta} = \\boldsymbol{y}.\n",
    "$$\n",
    "\n",
    "Note that the data points are the *rows* of the data matrix, i.e., every column is a dimension of the data. \n",
    "\n",
    "Our goal is to find the best $\\boldsymbol\\theta$ such that we minimize the following objective (least square).\n",
    "\n",
    "$$\n",
    "\\begin{eqnarray} \n",
    "& \\sum^n_{i=1}{\\lVert \\bar{y_i} - y_i \\rVert^2} \\\\\n",
    "&= \\sum^n_{i=1}{\\lVert \\boldsymbol \\theta^T\\boldsymbol{x}_i - y_i \\rVert^2} \\\\\n",
    "&= (\\boldsymbol X\\boldsymbol {\\theta} - \\boldsymbol y)^T(\\boldsymbol X\\boldsymbol {\\theta} - \\boldsymbol y).\n",
    "\\end{eqnarray}\n",
    "$$\n",
    "\n",
    "If we set the gradient of the above objective to $\\boldsymbol  0$, we have\n",
    "$$\n",
    "\\begin{eqnarray} \n",
    "\\nabla_\\theta(\\boldsymbol X\\boldsymbol {\\theta} - \\boldsymbol y)^T(\\boldsymbol X\\boldsymbol {\\theta} - \\boldsymbol y) &=& \\boldsymbol 0 \\\\\n",
    "\\nabla_\\theta(\\boldsymbol {\\theta}^T\\boldsymbol X^T - \\boldsymbol y^T)(\\boldsymbol X\\boldsymbol {\\theta} - \\boldsymbol y) &=& \\boldsymbol 0 \\\\\n",
    "\\nabla_\\theta(\\boldsymbol {\\theta}^T\\boldsymbol X^T\\boldsymbol X\\boldsymbol {\\theta} - \\boldsymbol y^T\\boldsymbol X\\boldsymbol \\theta - \\boldsymbol \\theta^T\\boldsymbol X^T\\boldsymbol y + \\boldsymbol y^T\\boldsymbol y ) &=& \\boldsymbol 0 \\\\\n",
    "2\\boldsymbol X^T\\boldsymbol X\\theta - 2\\boldsymbol X^T\\boldsymbol y &=& \\boldsymbol 0 \\\\\n",
    "\\boldsymbol X^T\\boldsymbol X\\boldsymbol \\theta        &=& \\boldsymbol X^T\\boldsymbol y.\n",
    "\\end{eqnarray}\n",
    "$$\n",
    "\n",
    "The solution that gives zero gradient solves (which we call the maximum likelihood estimator) the following equation:\n",
    "\n",
    "$$\\boldsymbol X^T\\boldsymbol X\\boldsymbol \\theta = \\boldsymbol X^T\\boldsymbol y.$$\n",
    "\n",
    "_This is exactly the same as the normal equation we have for projections_.\n",
    "\n",
    "This means that if we solve for $\\boldsymbol X^T\\boldsymbol X\\boldsymbol \\theta = \\boldsymbol X^T\\boldsymbol y.$ we would find the best $\\boldsymbol \\theta = (\\boldsymbol X^T\\boldsymbol X)^{-1}\\boldsymbol X^T\\boldsymbol y$, i.e. the $\\boldsymbol \\theta$ which minimizes our objective.\n",
    "\n",
    "In this section we try to calculate the LS for prdicting our data by solving the exact equation:\n",
    "\n",
    "$$A^t A x = A^t b$$"
   ]
  },
  {
   "cell_type": "markdown",
   "metadata": {},
   "source": [
    "Please fill in the functions `solve_least_square` below:"
   ]
  },
  {
   "cell_type": "code",
   "execution_count": 7,
   "metadata": {},
   "outputs": [],
   "source": [
    "def solve_least_square(A, b):  # 5\n",
    "    # YOUR CODE HERE\n",
    "    # You can use library routines in `np.linalg.*`\n",
    "    # raise NotImplementedError\n",
    "    return np.linalg.inv(A.T @ A) @ A.T @ b  # use a function to solve a linear equation"
   ]
  },
  {
   "cell_type": "markdown",
   "metadata": {},
   "source": [
    "## Plotting the line\n",
    "Call `solve_least_square` and plot the line on the data.\n",
    "\n",
    "you can use `plt.plot(x, ax+b, \"RED\")` for plotting the y=ax+b line"
   ]
  },
  {
   "cell_type": "code",
   "execution_count": 8,
   "metadata": {},
   "outputs": [
    {
     "data": {
      "text/plain": [
       "Text(0, 0.5, 'weight')"
      ]
     },
     "execution_count": 8,
     "metadata": {},
     "output_type": "execute_result"
    },
    {
     "data": {
      "image/png": "[encoded data removed]",
      "text/plain": [
       "<Figure size 432x288 with 1 Axes>"
      ]
     },
     "metadata": {
      "needs_background": "light"
     },
     "output_type": "display_data"
    }
   ],
   "source": [
    "# YOUR CODE HERE  # 10\n",
    "# raise NotImplementedError\n",
    "beta, alpha= solve_least_square(A, b)\n",
    "plt.plot(x, alpha *x + beta, \"RED\", linewidth=7.0)\n",
    "plt.scatter(A[:, 1], b)\n",
    "plt.title(f'y = {alpha}*x + {beta}', color=\"g\")\n",
    "plt.xlabel('height')\n",
    "plt.ylabel('weight')"
   ]
  },
  {
   "cell_type": "markdown",
   "metadata": {},
   "source": [
    "# 2. Gradient Descent\n",
    "Gradient Descent is an iterative optimization algorithm to find the minimum of a function.\n",
    "\n",
    "Here that function is our Loss Function which is the Least Square function.\n",
    "\n",
    "In this section, we try to calculate the LS of the same data by an iterative algorithm.\n",
    "we have LS as our loss function. Our goal is to minimize this loss function to obtain the most accurate value for weight.\n",
    "<img src=\"gd.png \" width=\"600\" align=\"center\">\n",
    "This algorithm consists of 4 steps:\n",
    "### Step 1\n",
    "initialling the values to x (ex. [1, 1]).\n",
    "\n",
    "Let (`L`) be our learning rate. This controls how much the value of x changes with each step. L could be a small value for good accuracy.\n",
    "\n",
    "### Step 2\n",
    "Calculate the gradient of the loss function (`G`).\n",
    "\n",
    "### Step 3\n",
    "Now we update the current value of `x` using the following equation:\n",
    "`x` = `x` - `L` * `G`\n",
    "\n",
    "### Step 4\n",
    "We repeat this process until our loss function is a very small value or ideally 0 (which means 0 error or 100% accuracy).\n",
    "\n",
    "The value of x that we are left with now will be the optimum value.\n"
   ]
  },
  {
   "cell_type": "markdown",
   "metadata": {},
   "source": [
    "## Computing the Objective Function\n",
    "Fill in the `calculate_objective` function below:\n",
    "\n",
    "where `Axmb` is given and we just want to compute the LS where  `Axmb` = $Ax - b$"
   ]
  },
  {
   "cell_type": "code",
   "execution_count": 9,
   "metadata": {},
   "outputs": [],
   "source": [
    "def calculate_objective(Axmb): # 5\n",
    "    \"\"\"\n",
    "    Calculate the mean squared error for vector Axmb = Ax - b.\n",
    "    :param Axmb: the n*1 vector of Ax - b\n",
    "    :return: copmutes the least square of Ax-b\n",
    "    \"\"\"\n",
    "    # Your code here\n",
    "    \n",
    "    # raise NotImplementedError\n",
    "    n = len(Axmb)\n",
    "    return (1/(2*n))*(np.linalg.norm(Axmb)**2)"
   ]
  },
  {
   "cell_type": "markdown",
   "metadata": {},
   "source": [
    "Please fill in the functions `compute_gradient` below:\n",
    "\n",
    "you should calculate the gradient of LS function."
   ]
  },
  {
   "cell_type": "code",
   "execution_count": 10,
   "metadata": {},
   "outputs": [],
   "source": [
    "def compute_gradient(b, A, x):  # 5\n",
    "    \"\"\"\n",
    "    Computing the gradient of least square error\n",
    "    :param b: the output that we should estimate\n",
    "    :param A: the input data that we use it to get b\n",
    "    :param x: the vector of weights that should minimize the loss functions\n",
    "    :return: returns the gradient of LS in x, and also Ax-b (as Axmb)\n",
    "    \"\"\"\n",
    "    # YOUR CODE HERE\n",
    "    # raise NotImplementedError\n",
    "    grad = 2 * (A.T).dot(A).dot(x) - 2 * (A.T).dot(b)\n",
    "    Axmb = A.dot(x) - b\n",
    "    \n",
    "    return grad, Axmb"
   ]
  },
  {
   "cell_type": "markdown",
   "metadata": {},
   "source": [
    "Please fill in the functions `gradient_descent` below:\n",
    "\n",
    "where `gamma` is the learning rate."
   ]
  },
  {
   "cell_type": "code",
   "execution_count": 11,
   "metadata": {},
   "outputs": [],
   "source": [
    "def gradient_descent(b, A, initial_x, max_iters, gamma):\n",
    "    \"\"\"Gradient descent algorithm.\"\"\"\n",
    "    # Define parameters to store x and objective func. values\n",
    "    xs = [initial_x]\n",
    "    objectives = [-1]\n",
    "    x = initial_x\n",
    "    for n_iter in range(max_iters):\n",
    "        # TODO: compute gradient and objective function  5\n",
    "        grad, Axmb = compute_gradient(b, A, x)\n",
    "        obj = calculate_objective(Axmb)\n",
    "\n",
    "        # TODO: update x by a gradient descent step  5\n",
    "        x = x - gamma * grad\n",
    "        # TODO: store x and objective function value  5\n",
    "        xs.append(x)\n",
    "        objectives.append(obj)\n",
    "        \n",
    "        if abs(obj - objectives[-2]) < epsilon:\n",
    "                break\n",
    "        print(\"Gradient Descent({bi}/{ti}): objective={l}\".format(bi=n_iter, ti=max_iters - 1, l=obj))\n",
    "    return objectives, xs"
   ]
  },
  {
   "cell_type": "markdown",
   "metadata": {},
   "source": [
    "## Train your data\n",
    "\n",
    "You shoud assing values to parameters `max_iters` and `gamma`. you can use `Plotting the lines‍‍‍` and `Plotting the cost per iterations`"
   ]
  },
  {
   "cell_type": "code",
   "execution_count": 18,
   "metadata": {},
   "outputs": [
    {
     "name": "stdout",
     "output_type": "stream",
     "text": [
      "Gradient Descent(0/399): objective=2792.2367127591683\n",
      "Gradient Descent(1/399): objective=2682.2734200935097\n",
      "Gradient Descent(2/399): objective=2576.664673817412\n",
      "Gradient Descent(3/399): objective=2475.238033893849\n",
      "Gradient Descent(4/399): objective=2377.827888911258\n",
      "Gradient Descent(5/399): objective=2284.275185669978\n",
      "Gradient Descent(6/399): objective=2194.4271694770528\n",
      "Gradient Descent(7/399): objective=2108.1371347253676\n",
      "Gradient Descent(8/399): objective=2025.2641853498478\n",
      "Gradient Descent(9/399): objective=1945.6730047695992\n",
      "Gradient Descent(10/399): objective=1869.2336349403286\n",
      "Gradient Descent(11/399): objective=1795.8212641562977\n",
      "Gradient Descent(12/399): objective=1725.3160232553141\n",
      "Gradient Descent(13/399): objective=1657.6027898940094\n",
      "Gradient Descent(14/399): objective=1592.5710005738124\n",
      "Gradient Descent(15/399): objective=1530.1144701106944\n",
      "Gradient Descent(16/399): objective=1470.1312182539168\n",
      "Gradient Descent(17/399): objective=1412.5233031706666\n",
      "Gradient Descent(18/399): objective=1357.196661524715\n",
      "Gradient Descent(19/399): objective=1304.0609548879422\n",
      "Gradient Descent(20/399): objective=1253.029422233985\n",
      "Gradient Descent(21/399): objective=1204.0187382731244\n",
      "Gradient Descent(22/399): objective=1156.9488773971148\n",
      "Gradient Descent(23/399): objective=1111.7429830117942\n",
      "Gradient Descent(24/399): objective=1068.3272420441333\n",
      "Gradient Descent(25/399): objective=1026.6307644187914\n",
      "Gradient Descent(26/399): objective=986.5854673074125\n",
      "Gradient Descent(27/399): objective=948.1259639616447\n",
      "Gradient Descent(28/399): objective=911.1894569483692\n",
      "Gradient Descent(29/399): objective=875.7156356128197\n",
      "Gradient Descent(30/399): objective=841.6465776021574\n",
      "Gradient Descent(31/399): objective=808.9266542887177\n",
      "Gradient Descent(32/399): objective=777.5024399384904\n",
      "Gradient Descent(33/399): objective=747.3226244765317\n",
      "Gradient Descent(34/399): objective=718.3379297068665\n",
      "Gradient Descent(35/399): objective=690.5010288500806\n",
      "Gradient Descent(36/399): objective=663.7664692672231\n",
      "Gradient Descent(37/399): objective=638.0905982438462\n",
      "Gradient Descent(38/399): objective=613.431491712996\n",
      "Gradient Descent(39/399): objective=589.7488858007669\n",
      "Gradient Descent(40/399): objective=567.0041110826622\n",
      "Gradient Descent(41/399): objective=545.1600294433941\n",
      "Gradient Descent(42/399): objective=524.1809734370414\n",
      "Gradient Descent(43/399): objective=504.03268804854025\n",
      "Gradient Descent(44/399): objective=484.68227476142397\n",
      "Gradient Descent(45/399): objective=466.098137840477\n",
      "Gradient Descent(46/399): objective=448.24993274159993\n",
      "Gradient Descent(47/399): objective=431.1085165646383\n",
      "Gradient Descent(48/399): objective=414.6459004682843\n",
      "Gradient Descent(49/399): objective=398.8352039693458\n",
      "Gradient Descent(50/399): objective=383.6506110517653\n",
      "Gradient Descent(51/399): objective=369.06732801372107\n",
      "Gradient Descent(52/399): objective=355.06154298398326\n",
      "Gradient Descent(53/399): objective=341.6103870414234\n",
      "Gradient Descent(54/399): objective=328.6918968741886\n",
      "Gradient Descent(55/399): objective=316.28497891757644\n",
      "Gradient Descent(56/399): objective=304.369374912046\n",
      "Gradient Descent(57/399): objective=292.9256288251346\n",
      "Gradient Descent(58/399): objective=281.93505508326507\n",
      "Gradient Descent(59/399): objective=271.3797080615734\n",
      "Gradient Descent(60/399): objective=261.2423527819408\n",
      "Gradient Descent(61/399): objective=251.50643677138157\n",
      "Gradient Descent(62/399): objective=242.15606303484037\n",
      "Gradient Descent(63/399): objective=233.17596409826638\n",
      "Gradient Descent(64/399): objective=224.55147707958074\n",
      "Gradient Descent(65/399): objective=216.26851974683498\n",
      "Gradient Descent(66/399): objective=208.3135675244659\n",
      "Gradient Descent(67/399): objective=200.6736314101027\n",
      "Gradient Descent(68/399): objective=193.33623676586825\n",
      "Gradient Descent(69/399): objective=186.28940294954558\n",
      "Gradient Descent(70/399): objective=179.5216237523492\n",
      "Gradient Descent(71/399): objective=173.02184861136183\n",
      "Gradient Descent(72/399): objective=166.77946456595748\n",
      "Gradient Descent(73/399): objective=160.7842789287512\n",
      "Gradient Descent(74/399): objective=155.0265026427783\n",
      "Gradient Descent(75/399): objective=149.4967342977299\n",
      "Gradient Descent(76/399): objective=144.18594477914547\n",
      "Gradient Descent(77/399): objective=139.08546252549695\n",
      "Gradient Descent(78/399): objective=134.18695936909288\n",
      "Gradient Descent(79/399): objective=129.48243693768242\n",
      "Gradient Descent(80/399): objective=124.96421359455584\n",
      "Gradient Descent(81/399): objective=120.62491189581701\n",
      "Gradient Descent(82/399): objective=116.45744654434836\n",
      "Gradient Descent(83/399): objective=112.45501282079776\n",
      "Gradient Descent(84/399): objective=108.61107547269981\n",
      "Gradient Descent(85/399): objective=104.91935804358647\n",
      "Gradient Descent(86/399): objective=101.37383262466606\n",
      "Gradient Descent(87/399): objective=97.96871001233491\n",
      "Gradient Descent(88/399): objective=94.69843025545211\n",
      "Gradient Descent(89/399): objective=91.55765357694186\n",
      "Gradient Descent(90/399): objective=88.54125165490058\n",
      "Gradient Descent(91/399): objective=85.64429924897222\n",
      "Gradient Descent(92/399): objective=82.86206615831847\n",
      "Gradient Descent(93/399): objective=80.1900094980547\n",
      "Gradient Descent(94/399): objective=77.62376628153731\n",
      "Gradient Descent(95/399): objective=75.15914629639413\n",
      "Gradient Descent(96/399): objective=72.79212526266258\n",
      "Gradient Descent(97/399): objective=70.51883826186675\n",
      "Gradient Descent(98/399): objective=68.33557342630249\n",
      "Gradient Descent(99/399): objective=66.23876587822656\n",
      "Gradient Descent(100/399): objective=64.22499190905442\n",
      "Gradient Descent(101/399): objective=62.29096338906157\n",
      "Gradient Descent(102/399): objective=60.433522398460354\n",
      "Gradient Descent(103/399): objective=58.64963607108693\n",
      "Gradient Descent(104/399): objective=56.93639164227751\n",
      "Gradient Descent(105/399): objective=55.29099169284896\n",
      "Gradient Descent(106/399): objective=53.71074958141777\n",
      "Gradient Descent(107/399): objective=52.19308505759922\n",
      "Gradient Descent(108/399): objective=50.735520048923924\n",
      "Gradient Descent(109/399): objective=49.335674614592214\n",
      "Gradient Descent(110/399): objective=47.991263059459975\n",
      "Gradient Descent(111/399): objective=46.700090201910974\n",
      "Gradient Descent(112/399): objective=45.460047789520935\n",
      "Gradient Descent(113/399): objective=44.269111056661586\n",
      "Gradient Descent(114/399): objective=43.12533541842347\n",
      "Gradient Descent(115/399): objective=42.02685329545951\n",
      "Gradient Descent(116/399): objective=40.97187106456498\n",
      "Gradient Descent(117/399): objective=39.95866613001384\n",
      "Gradient Descent(118/399): objective=38.98558411087088\n",
      "Gradient Descent(119/399): objective=38.05103613968604\n",
      "Gradient Descent(120/399): objective=37.15349626816012\n",
      "Gradient Descent(121/399): objective=36.29149897554664\n",
      "Gradient Descent(122/399): objective=35.46363677572062\n",
      "Gradient Descent(123/399): objective=34.66855791900772\n",
      "Gradient Descent(124/399): objective=33.90496418502065\n",
      "Gradient Descent(125/399): objective=33.17160876289948\n",
      "Gradient Descent(126/399): objective=32.467294215494306\n",
      "Gradient Descent(127/399): objective=31.790870524166344\n",
      "Gradient Descent(128/399): objective=31.141233211015017\n",
      "Gradient Descent(129/399): objective=30.517321535464454\n",
      "Gradient Descent(130/399): objective=29.918116762265658\n",
      "Gradient Descent(131/399): objective=29.34264049808559\n",
      "Gradient Descent(132/399): objective=28.789953093967075\n",
      "Gradient Descent(133/399): objective=28.25915211105158\n",
      "Gradient Descent(134/399): objective=27.749370847059556\n",
      "Gradient Descent(135/399): objective=27.25977692112166\n",
      "Gradient Descent(136/399): objective=26.78957091465089\n",
      "Gradient Descent(137/399): objective=26.337985066036346\n",
      "Gradient Descent(138/399): objective=25.904282017026972\n",
      "Gradient Descent(139/399): objective=25.48775360875832\n",
      "Gradient Descent(140/399): objective=25.087719725457138\n",
      "Gradient Descent(141/399): objective=24.70352718393466\n",
      "Gradient Descent(142/399): objective=24.33454866705649\n",
      "Gradient Descent(143/399): objective=23.980181699446664\n",
      "Gradient Descent(144/399): objective=23.639847663754228\n",
      "Gradient Descent(145/399): objective=23.312990855875192\n",
      "Gradient Descent(146/399): objective=22.99907757758816\n",
      "Gradient Descent(147/399): objective=22.6975952651213\n",
      "Gradient Descent(148/399): objective=22.40805165222812\n",
      "Gradient Descent(149/399): objective=22.12997396640553\n",
      "Gradient Descent(150/399): objective=21.86290815694149\n",
      "Gradient Descent(151/399): objective=21.606418153532253\n",
      "Gradient Descent(152/399): objective=21.360085154258012\n",
      "Gradient Descent(153/399): objective=21.123506941755032\n",
      "Gradient Descent(154/399): objective=20.896297226467187\n",
      "Gradient Descent(155/399): objective=20.67808501590472\n",
      "Gradient Descent(156/399): objective=20.468514008880526\n",
      "Gradient Descent(157/399): objective=20.26724201373448\n",
      "Gradient Descent(158/399): objective=20.073940389596235\n",
      "Gradient Descent(159/399): objective=19.888293509773867\n",
      "Gradient Descent(160/399): objective=19.709998246392445\n",
      "Gradient Descent(161/399): objective=19.538763475440966\n",
      "Gradient Descent(162/399): objective=19.374309601419167\n",
      "Gradient Descent(163/399): objective=19.2163681008086\n",
      "Gradient Descent(164/399): objective=19.064681083622215\n",
      "Gradient Descent(165/399): objective=18.919000872316417\n",
      "Gradient Descent(166/399): objective=18.779089597378327\n",
      "Gradient Descent(167/399): objective=18.644718808927784\n",
      "Gradient Descent(168/399): objective=18.515669103699874\n",
      "Gradient Descent(169/399): objective=18.39172976679899\n",
      "Gradient Descent(170/399): objective=18.272698427639405\n",
      "Gradient Descent(171/399): objective=18.158380729510533\n",
      "Gradient Descent(172/399): objective=18.04859001222756\n",
      "Gradient Descent(173/399): objective=17.94314700734899\n",
      "Gradient Descent(174/399): objective=17.841879545463605\n",
      "Gradient Descent(175/399): objective=17.74462227506887\n",
      "Gradient Descent(176/399): objective=17.65121639258178\n",
      "Gradient Descent(177/399): objective=17.561509383041194\n",
      "Gradient Descent(178/399): objective=17.475354771078415\n",
      "Gradient Descent(179/399): objective=17.392611881749342\n",
      "Gradient Descent(180/399): objective=17.313145610837722\n",
      "Gradient Descent(181/399): objective=17.236826204254196\n",
      "Gradient Descent(182/399): objective=17.163529046171373\n",
      "Gradient Descent(183/399): objective=17.093134455548636\n",
      "Gradient Descent(184/399): objective=17.025527490714545\n",
      "Gradient Descent(185/399): objective=16.960597761687886\n",
      "Gradient Descent(186/399): objective=16.898239249930697\n",
      "Gradient Descent(187/399): objective=16.838350135239075\n",
      "Gradient Descent(188/399): objective=16.78083262948926\n",
      "Gradient Descent(189/399): objective=16.72559281696712\n",
      "Gradient Descent(190/399): objective=16.672540501020876\n",
      "Gradient Descent(191/399): objective=16.6215890567861\n",
      "Gradient Descent(192/399): objective=16.572655289742997\n",
      "Gradient Descent(193/399): objective=16.52565929987483\n",
      "Gradient Descent(194/399): objective=16.48052435120544\n",
      "Gradient Descent(195/399): objective=16.43717674650334\n",
      "Gradient Descent(196/399): objective=16.395545706947463\n",
      "Gradient Descent(197/399): objective=16.355563256557986\n",
      "Gradient Descent(198/399): objective=16.317164111203944\n",
      "Gradient Descent(199/399): objective=16.28028557200591\n",
      "Gradient Descent(200/399): objective=16.24486742296012\n",
      "Gradient Descent(201/399): objective=16.210851832616555\n",
      "Gradient Descent(202/399): objective=16.178183259650574\n",
      "Gradient Descent(203/399): objective=16.146808362174067\n",
      "Gradient Descent(204/399): objective=16.116675910637614\n",
      "Gradient Descent(205/399): objective=16.087736704182014\n",
      "Gradient Descent(206/399): objective=16.059943490302057\n",
      "Gradient Descent(207/399): objective=16.033250887691747\n",
      "Gradient Descent(208/399): objective=16.007615312144797\n",
      "Gradient Descent(209/399): objective=15.982994905389514\n",
      "Gradient Descent(210/399): objective=15.959349466741743\n",
      "Gradient Descent(211/399): objective=15.936640387464408\n",
      "Gradient Descent(212/399): objective=15.914830587726463\n",
      "Gradient Descent(213/399): objective=15.893884456058144\n",
      "Gradient Descent(214/399): objective=15.873767791203877\n",
      "Gradient Descent(215/399): objective=15.85444774627786\n",
      "Gradient Descent(216/399): objective=15.835892775130898\n",
      "Gradient Descent(217/399): objective=15.818072580841353\n",
      "Gradient Descent(218/399): objective=15.80095806624569\n",
      "Gradient Descent(219/399): objective=15.784521286428001\n",
      "Gradient Descent(220/399): objective=15.768735403091103\n",
      "Gradient Descent(221/399): objective=15.75357464073435\n",
      "Gradient Descent(222/399): objective=15.739014244566905\n",
      "Gradient Descent(223/399): objective=15.72503044008769\n",
      "Gradient Descent(224/399): objective=15.711600394265863\n",
      "Gradient Descent(225/399): objective=15.698702178258578\n",
      "Gradient Descent(226/399): objective=15.686314731605183\n",
      "Gradient Descent(227/399): objective=15.67441782783926\n",
      "Gradient Descent(228/399): objective=15.662992041462466\n",
      "Gradient Descent(229/399): objective=15.652018716226202\n",
      "Gradient Descent(230/399): objective=15.64147993466929\n",
      "Gradient Descent(231/399): objective=15.631358488862029\n",
      "Gradient Descent(232/399): objective=15.621637852308737\n",
      "Gradient Descent(233/399): objective=15.612302152962958\n",
      "Gradient Descent(234/399): objective=15.60333614731127\n",
      "Gradient Descent(235/399): objective=15.594725195483385\n",
      "Gradient Descent(236/399): objective=15.586455237347886\n",
      "Gradient Descent(237/399): objective=15.578512769554553\n",
      "Gradient Descent(238/399): objective=15.570884823485832\n",
      "Gradient Descent(239/399): objective=15.563558944081441\n",
      "Gradient Descent(240/399): objective=15.556523169501459\n",
      "Gradient Descent(241/399): objective=15.549766011594844\n",
      "Gradient Descent(242/399): objective=15.543276437141339\n",
      "Gradient Descent(243/399): objective=15.537043849836186\n",
      "Gradient Descent(244/399): objective=15.531058072988312\n",
      "Gradient Descent(245/399): objective=15.525309332903612\n",
      "Gradient Descent(246/399): objective=15.519788242926278\n",
      "Gradient Descent(247/399): objective=15.514485788112042\n",
      "Gradient Descent(248/399): objective=15.509393310508452\n",
      "Gradient Descent(249/399): objective=15.504502495017954\n",
      "Gradient Descent(250/399): objective=15.49980535582089\n",
      "Gradient Descent(251/399): objective=15.49529422333603\n",
      "Gradient Descent(252/399): objective=15.490961731697562\n",
      "Gradient Descent(253/399): objective=15.48680080672798\n",
      "Gradient Descent(254/399): objective=15.482804654387197\n",
      "Gradient Descent(255/399): objective=15.478966749679115\n",
      "Gradient Descent(256/399): objective=15.475280825997467\n",
      "Gradient Descent(257/399): objective=15.471740864893608\n",
      "Gradient Descent(258/399): objective=15.468341086249461\n",
      "Gradient Descent(259/399): objective=15.465075938839629\n",
      "Gradient Descent(260/399): objective=15.46194009126722\n",
      "Gradient Descent(261/399): objective=15.458928423258678\n",
      "Gradient Descent(262/399): objective=15.456036017303283\n",
      "Gradient Descent(263/399): objective=15.453258150623721\n",
      "Gradient Descent(264/399): objective=15.45059028746466\n",
      "Gradient Descent(265/399): objective=15.448028071686707\n",
      "Gradient Descent(266/399): objective=15.445567319653554\n",
      "Gradient Descent(267/399): objective=15.443204013400912\n",
      "Gradient Descent(268/399): objective=15.440934294075884\n",
      "Gradient Descent(269/399): objective=15.438754455636131\n",
      "Gradient Descent(270/399): objective=15.436660938798585\n",
      "Gradient Descent(271/399): objective=15.4346503252278\n",
      "Gradient Descent(272/399): objective=15.432719331954424\n",
      "Gradient Descent(273/399): objective=15.430864806014679\n",
      "Gradient Descent(274/399): objective=15.42908371930213\n",
      "Gradient Descent(275/399): objective=15.427373163623416\n",
      "Gradient Descent(276/399): objective=15.425730345949578\n",
      "Gradient Descent(277/399): objective=15.424152583855616\n",
      "Gradient Descent(278/399): objective=15.422637301140579\n",
      "Gradient Descent(279/399): objective=15.42118202362106\n",
      "Gradient Descent(280/399): objective=15.4197843750913\n",
      "Gradient Descent(281/399): objective=15.418442073443336\n",
      "Gradient Descent(282/399): objective=15.417152926940616\n",
      "Gradient Descent(283/399): objective=15.415914830639418\n",
      "Gradient Descent(284/399): objective=15.414725762951742\n",
      "Gradient Descent(285/399): objective=15.413583782344483\n",
      "Gradient Descent(286/399): objective=15.412487024169296\n",
      "Gradient Descent(287/399): objective=15.411433697617834\n",
      "Gradient Descent(288/399): objective=15.410422082797814\n",
      "Gradient Descent(289/399): objective=15.409450527924667\n",
      "Gradient Descent(290/399): objective=15.408517446624488\n",
      "Gradient Descent(291/399): objective=15.407621315343812\n",
      "Gradient Descent(292/399): objective=15.406760670861837\n",
      "Gradient Descent(293/399): objective=15.405934107901349\n",
      "Gradient Descent(294/399): objective=15.405140276834098\n",
      "Gradient Descent(295/399): objective=15.40437788147711\n",
      "Gradient Descent(296/399): objective=15.403645676976263\n",
      "Gradient Descent(297/399): objective=15.402942467773645\n",
      "Gradient Descent(298/399): objective=15.40226710565546\n",
      "Gradient Descent(299/399): objective=15.401618487877144\n",
      "Gradient Descent(300/399): objective=15.40099555536285\n",
      "Gradient Descent(301/399): objective=15.400397290976134\n",
      "Gradient Descent(302/399): objective=15.399822717859116\n",
      "Gradient Descent(303/399): objective=15.399270897837539\n",
      "Gradient Descent(304/399): objective=15.398740929888818\n",
      "Gradient Descent(305/399): objective=15.398231948670874\n",
      "Gradient Descent(306/399): objective=15.397743123109143\n",
      "Gradient Descent(307/399): objective=15.397273655039672\n",
      "Gradient Descent(308/399): objective=15.396822777905749\n",
      "Gradient Descent(309/399): objective=15.396389755506322\n",
      "Gradient Descent(310/399): objective=15.395973880793914\n",
      "Gradient Descent(311/399): objective=15.395574474720124\n",
      "Gradient Descent(312/399): objective=15.395190885126844\n",
      "Gradient Descent(313/399): objective=15.394822485681466\n",
      "Gradient Descent(314/399): objective=15.394468674854128\n",
      "Gradient Descent(315/399): objective=15.394128874935552\n",
      "Gradient Descent(316/399): objective=15.393802531093748\n",
      "Gradient Descent(317/399): objective=15.393489110468078\n",
      "Gradient Descent(318/399): objective=15.39318810129919\n",
      "Gradient Descent(319/399): objective=15.392899012093384\n",
      "Gradient Descent(320/399): objective=15.392621370820128\n",
      "Gradient Descent(321/399): objective=15.392354724141295\n",
      "Gradient Descent(322/399): objective=15.39209863667094\n",
      "Gradient Descent(323/399): objective=15.391852690264411\n",
      "Gradient Descent(324/399): objective=15.391616483335593\n",
      "Gradient Descent(325/399): objective=15.391389630201145\n",
      "Gradient Descent(326/399): objective=15.391171760450817\n",
      "Gradient Descent(327/399): objective=15.390962518342615\n",
      "Gradient Descent(328/399): objective=15.3907615622219\n",
      "Gradient Descent(329/399): objective=15.390568563963551\n",
      "Gradient Descent(330/399): objective=15.390383208436232\n",
      "Gradient Descent(331/399): objective=15.390205192987805\n",
      "Gradient Descent(332/399): objective=15.390034226951126\n",
      "Gradient Descent(333/399): objective=15.389870031169508\n",
      "Gradient Descent(334/399): objective=15.389712337540844\n",
      "Gradient Descent(335/399): objective=15.38956088857988\n",
      "Gradient Descent(336/399): objective=15.389415436997748\n",
      "Gradient Descent(337/399): objective=15.389275745298283\n",
      "Gradient Descent(338/399): objective=15.389141585390123\n",
      "Gradient Descent(339/399): objective=15.389012738214314\n",
      "Gradient Descent(340/399): objective=15.388888993386672\n",
      "Gradient Descent(341/399): objective=15.388770148854197\n",
      "Gradient Descent(342/399): objective=15.388656010565226\n",
      "Gradient Descent(343/399): objective=15.388546392152485\n",
      "Gradient Descent(344/399): objective=15.38844111462889\n",
      "Gradient Descent(345/399): objective=15.388340006095223\n",
      "Gradient Descent(346/399): objective=15.3882429014595\n",
      "Gradient Descent(347/399): objective=15.388149642167352\n",
      "Gradient Descent(348/399): objective=15.388060075943164\n",
      "Gradient Descent(349/399): objective=15.387974056541463\n",
      "Gradient Descent(350/399): objective=15.38789144350807\n",
      "Gradient Descent(351/399): objective=15.387812101950782\n",
      "Gradient Descent(352/399): objective=15.387735902319182\n",
      "Gradient Descent(353/399): objective=15.387662720192987\n",
      "Gradient Descent(354/399): objective=15.387592436078991\n",
      "Gradient Descent(355/399): objective=15.387524935215904\n",
      "Gradient Descent(356/399): objective=15.387460107387007\n",
      "Gradient Descent(357/399): objective=15.387397846740123\n",
      "Gradient Descent(358/399): objective=15.38733805161485\n",
      "Gradient Descent(359/399): objective=15.387280624376553\n",
      "Gradient Descent(360/399): objective=15.387225471256874\n",
      "Gradient Descent(361/399): objective=15.387172502200755\n",
      "Gradient Descent(362/399): objective=15.387121630719244\n",
      "Gradient Descent(363/399): objective=15.387072773748407\n",
      "Gradient Descent(364/399): objective=15.38702585151361\n",
      "Gradient Descent(365/399): objective=15.386980787399319\n",
      "Gradient Descent(366/399): objective=15.38693750782396\n",
      "Gradient Descent(367/399): objective=15.386895942119766\n",
      "Gradient Descent(368/399): objective=15.386856022417476\n",
      "Gradient Descent(369/399): objective=15.386817683535384\n",
      "Gradient Descent(370/399): objective=15.386780862873033\n",
      "Gradient Descent(371/399): objective=15.3867455003089\n",
      "Gradient Descent(372/399): objective=15.38671153810231\n",
      "Gradient Descent(373/399): objective=15.386678920799108\n",
      "Gradient Descent(374/399): objective=15.38664759514111\n",
      "Gradient Descent(375/399): objective=15.386617509979162\n",
      "Gradient Descent(376/399): objective=15.386588616189629\n",
      "Gradient Descent(377/399): objective=15.38656086659417\n",
      "Gradient Descent(378/399): objective=15.386534215882675\n",
      "Gradient Descent(379/399): objective=15.38650862053937\n",
      "Gradient Descent(380/399): objective=15.386484038771657\n",
      "Gradient Descent(381/399): objective=15.386460430441943\n",
      "Gradient Descent(382/399): objective=15.386437757002088\n",
      "Gradient Descent(383/399): objective=15.386415981430444\n",
      "Gradient Descent(384/399): objective=15.386395068171439\n",
      "Gradient Descent(385/399): objective=15.3863749830775\n",
      "Gradient Descent(386/399): objective=15.386355693353279\n",
      "Gradient Descent(387/399): objective=15.38633716750213\n",
      "Gradient Descent(388/399): objective=15.38631937527469\n",
      "Gradient Descent(389/399): objective=15.38630228761946\n",
      "Gradient Descent(390/399): objective=15.386285876635379\n",
      "Gradient Descent(391/399): objective=15.386270115526257\n",
      "Gradient Descent(392/399): objective=15.386254978557062\n",
      "Gradient Descent(393/399): objective=15.386240441011848\n",
      "Gradient Descent(394/399): objective=15.386226479153418\n",
      "Gradient Descent(395/399): objective=15.386213070184583\n",
      "Gradient Descent(396/399): objective=15.38620019221092\n",
      "Gradient Descent(397/399): objective=15.386187824205013\n",
      "Gradient Descent(398/399): objective=15.38617594597214\n",
      "Gradient Descent(399/399): objective=15.38616453811729\n",
      "Gradient Descent: execution time=0.116 seconds\n"
     ]
    }
   ],
   "source": [
    "import datetime\n",
    "\n",
    "# Define the parameters of the algorithm. you can use `Plotting the lines‍‍‍` part to check the parameters you choose.\n",
    "\n",
    "max_iters = 400  # maximum iteration of the algorithm\n",
    "\n",
    "gamma = 0.000001  # how big or small every steps are (usually between 0.000001 to 0.1 is ok!)  5\n",
    "\n",
    "# Initialization\n",
    "x_initial = np.zeros(A.shape[1])\n",
    "\n",
    "# Start gradient descent.\n",
    "start_time = datetime.datetime.now()\n",
    "gradient_objectives_naive, gradient_xs_naive = gradient_descent(b, A, x_initial, max_iters, gamma)\n",
    "end_time = datetime.datetime.now()\n",
    "\n",
    "# Print result\n",
    "exection_time = (end_time - start_time).total_seconds()\n",
    "print(\"Gradient Descent: execution time={t:.3f} seconds\".format(t=exection_time))"
   ]
  },
  {
   "cell_type": "markdown",
   "metadata": {},
   "source": [
    "## Plotting the lines"
   ]
  },
  {
   "cell_type": "code",
   "execution_count": 19,
   "metadata": {},
   "outputs": [
    {
     "data": {
      "image/png": "[encoded data removed]",
      "text/plain": [
       "<Figure size 432x288 with 1 Axes>"
      ]
     },
     "metadata": {
      "needs_background": "light"
     },
     "output_type": "display_data"
    }
   ],
   "source": [
    "plt.scatter(A[:, 1], b)\n",
    "for i in range(1, len(gradient_xs_naive)):\n",
    "    beta, alpha = gradient_xs_naive[i]\n",
    "    plt.plot(x, alpha *x + beta, \"RED\")\n",
    "    plt.title(f'objective={gradient_objectives_naive[-1]}, y = {alpha}*x + {beta}', color=\"g\")"
   ]
  },
  {
   "cell_type": "markdown",
   "metadata": {},
   "source": [
    "## Plotting the cost per iterations"
   ]
  },
  {
   "cell_type": "code",
   "execution_count": 14,
   "metadata": {},
   "outputs": [
    {
     "data": {
      "image/png": "[encoded data removed]",
      "text/plain": [
       "<Figure size 432x288 with 1 Axes>"
      ]
     },
     "metadata": {
      "needs_background": "light"
     },
     "output_type": "display_data"
    }
   ],
   "source": [
    "plt.plot(gradient_objectives_naive[1:])\n",
    "plt.xlabel('No. of iterations')\n",
    "plt.ylabel('Cost')\n",
    "plt.title('Cost per iteration')\n",
    "plt.show()"
   ]
  },
  {
   "cell_type": "markdown",
   "metadata": {},
   "source": [
    "# 3. Load News popularity data\n",
    "This is a dataset of news with parameters for prediction how many shares every news get.\n",
    "To get more familar with the dataset please open `OnlineNewsPopularity.csv` and check the columns."
   ]
  },
  {
   "cell_type": "code",
   "execution_count": 15,
   "metadata": {},
   "outputs": [],
   "source": [
    "def load_news_data(sub_sample=True):\n",
    "    \"\"\"Load data and convert it to the metric system.\"\"\"\n",
    "    \n",
    "    path_dataset = \"OnlineNewsPopularity.csv\"\n",
    "    \n",
    "    data = np.genfromtxt(\n",
    "        path_dataset, delimiter=\",\", skip_header=1)\n",
    "    \n",
    "    data = data[:, 1:-2]\n",
    "    shares = data[:, -1]\n",
    "\n",
    "    # sub-sample\n",
    "    if sub_sample:\n",
    "        data = data[::50]\n",
    "        shares = shares[::50]\n",
    "    \n",
    "    return data, shares"
   ]
  },
  {
   "cell_type": "code",
   "execution_count": 16,
   "metadata": {},
   "outputs": [],
   "source": [
    "data, shares = load_news_data(sub_sample=False)"
   ]
  },
  {
   "cell_type": "code",
   "execution_count": 17,
   "metadata": {},
   "outputs": [
    {
     "data": {
      "text/plain": [
       "((39644, 58), (39644,))"
      ]
     },
     "execution_count": 17,
     "metadata": {},
     "output_type": "execute_result"
    }
   ],
   "source": [
    "data.shape,shares.shape"
   ]
  },
  {
   "cell_type": "markdown",
   "metadata": {},
   "source": [
    "# Compute LS using exact formulation"
   ]
  },
  {
   "cell_type": "code",
   "execution_count": 18,
   "metadata": {},
   "outputs": [],
   "source": [
    "def compute_least_square(A, b):  # 5\n",
    "    # YOUR CODE HERE\n",
    "    return np.linalg.inv(A.T @ A) @ A.T @ b"
   ]
  },
  {
   "cell_type": "markdown",
   "metadata": {},
   "source": [
    "## Test the estimation\n",
    "you can compare your estimation to the real value of `shares` bellow:\n",
    "you can also plot the data"
   ]
  },
  {
   "cell_type": "code",
   "execution_count": 19,
   "metadata": {},
   "outputs": [],
   "source": [
    "# YOUR CODE HERE (OPTIONAL)  # 5"
   ]
  }
 ],
 "metadata": {
  "kernelspec": {
   "display_name": "Python 3 (ipykernel)",
   "language": "python",
   "name": "python3"
  },
  "language_info": {
   "codemirror_mode": {
    "name": "ipython",
    "version": 3
   },
   "file_extension": ".py",
   "mimetype": "text/x-python",
   "name": "python",
   "nbconvert_exporter": "python",
   "pygments_lexer": "ipython3",
   "version": "3.10.6"
  }
 },
 "nbformat": 4,
 "nbformat_minor": 4
}
